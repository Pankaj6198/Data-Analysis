{
 "cells": [
  {
   "cell_type": "markdown",
   "id": "65d72ac7",
   "metadata": {},
   "source": [
    "# Name: Pankaj Chaudhari\n",
    "# Roll No : 303\n",
    "# Dataset : Store data\n",
    "# Predictive Analytics Lab 1"
   ]
  },
  {
   "cell_type": "markdown",
   "id": "676e19bd",
   "metadata": {},
   "source": [
    "## Algorithm : Eclat"
   ]
  },
  {
   "cell_type": "markdown",
   "id": "424505fe",
   "metadata": {},
   "source": [
    "1) Get tidlist for each item in the database. Here, we scan the entire database. The tidlist of item {a} is the list of transactions in which item {a} is contained.<br>\n",
    "2) Intersect the tidlist of item {a} with the tidlist of item {b} and generate a new transaction list whose elements are transactions in which both items {a} and {b} are found.<br>\n",
    "3) Repeat step 1 on {a}-conditional to other items in the database.<br>\n",
    "4) For all other items, repeat the above steps."
   ]
  },
  {
   "cell_type": "markdown",
   "id": "d8490cd6",
   "metadata": {},
   "source": [
    "## Source Code:"
   ]
  },
  {
   "cell_type": "code",
   "execution_count": 4,
   "id": "a68c617b",
   "metadata": {},
   "outputs": [],
   "source": [
    "import numpy as np\n",
    "import pandas as pd\n",
    "from mlxtend.preprocessing import TransactionEncoder "
   ]
  },
  {
   "cell_type": "code",
   "execution_count": 5,
   "id": "ade47163",
   "metadata": {},
   "outputs": [],
   "source": [
    "import csv\n",
    "with open('store_data.csv') as f:\n",
    "    reader = csv.reader(f)\n",
    "    dataset = list(reader)"
   ]
  },
  {
   "cell_type": "code",
   "execution_count": 6,
   "id": "cd14dfdf",
   "metadata": {},
   "outputs": [],
   "source": [
    "te = TransactionEncoder()\n",
    "te_array = te.fit(dataset).transform(dataset)\n",
    "df = pd.DataFrame(te_array, columns=te.columns_)"
   ]
  },
  {
   "cell_type": "code",
   "execution_count": 7,
   "id": "e633cb50",
   "metadata": {},
   "outputs": [],
   "source": [
    "# we are looking for itemSETS\n",
    "# we do not want to have any individual products returned\n",
    "min_n_products = 2\n",
    "\n",
    "# we want to set min support to 7\n",
    "# but we have to express it as a percentage\n",
    "min_support = 7/len(df)\n",
    "\n",
    "# we have no limit on the size of association rules\n",
    "# so we set it to the longest transaction\n",
    "max_length = max([len(x) for x in df])"
   ]
  },
  {
   "cell_type": "code",
   "execution_count": 9,
   "id": "d1590c01",
   "metadata": {},
   "outputs": [],
   "source": [
    "from pyECLAT import ECLAT\n",
    "\n",
    "# create an instance of eclat\n",
    "my_eclat = ECLAT(data=df, verbose=True)"
   ]
  },
  {
   "cell_type": "code",
   "execution_count": 17,
   "id": "8031f16c",
   "metadata": {},
   "outputs": [],
   "source": [
    "%%time\n",
    "# fit the algorithm\n",
    "rule_indices, rule_supports = my_eclat.fit(min_support=min_support,min_combination=min_n_products,\n",
    "                                           max_combination=max_length)"
   ]
  },
  {
   "cell_type": "code",
   "execution_count": 16,
   "id": "fc2072a8",
   "metadata": {},
   "outputs": [
    {
     "data": {
      "text/html": [
       "<div>\n",
       "<style scoped>\n",
       "    .dataframe tbody tr th:only-of-type {\n",
       "        vertical-align: middle;\n",
       "    }\n",
       "\n",
       "    .dataframe tbody tr th {\n",
       "        vertical-align: top;\n",
       "    }\n",
       "\n",
       "    .dataframe thead th {\n",
       "        text-align: right;\n",
       "    }\n",
       "</style>\n",
       "<table border=\"1\" class=\"dataframe\">\n",
       "  <thead>\n",
       "    <tr style=\"text-align: right;\">\n",
       "      <th></th>\n",
       "      <th>antecedents</th>\n",
       "      <th>consequents</th>\n",
       "      <th>antecedent support</th>\n",
       "      <th>consequent support</th>\n",
       "      <th>support</th>\n",
       "      <th>confidence</th>\n",
       "      <th>lift</th>\n",
       "      <th>leverage</th>\n",
       "      <th>conviction</th>\n",
       "    </tr>\n",
       "  </thead>\n",
       "  <tbody>\n",
       "    <tr>\n",
       "      <th>0</th>\n",
       "      <td>(mineral water)</td>\n",
       "      <td>(green tea)</td>\n",
       "      <td>0.238368</td>\n",
       "      <td>0.132116</td>\n",
       "      <td>0.031063</td>\n",
       "      <td>0.130313</td>\n",
       "      <td>0.986357</td>\n",
       "      <td>-0.000430</td>\n",
       "      <td>0.997927</td>\n",
       "    </tr>\n",
       "    <tr>\n",
       "      <th>1</th>\n",
       "      <td>(green tea)</td>\n",
       "      <td>(mineral water)</td>\n",
       "      <td>0.132116</td>\n",
       "      <td>0.238368</td>\n",
       "      <td>0.031063</td>\n",
       "      <td>0.235116</td>\n",
       "      <td>0.986357</td>\n",
       "      <td>-0.000430</td>\n",
       "      <td>0.995748</td>\n",
       "    </tr>\n",
       "    <tr>\n",
       "      <th>2</th>\n",
       "      <td>(spaghetti)</td>\n",
       "      <td>(green tea)</td>\n",
       "      <td>0.174110</td>\n",
       "      <td>0.132116</td>\n",
       "      <td>0.026530</td>\n",
       "      <td>0.152374</td>\n",
       "      <td>1.153335</td>\n",
       "      <td>0.003527</td>\n",
       "      <td>1.023900</td>\n",
       "    </tr>\n",
       "    <tr>\n",
       "      <th>3</th>\n",
       "      <td>(green tea)</td>\n",
       "      <td>(spaghetti)</td>\n",
       "      <td>0.132116</td>\n",
       "      <td>0.174110</td>\n",
       "      <td>0.026530</td>\n",
       "      <td>0.200807</td>\n",
       "      <td>1.153335</td>\n",
       "      <td>0.003527</td>\n",
       "      <td>1.033405</td>\n",
       "    </tr>\n",
       "    <tr>\n",
       "      <th>4</th>\n",
       "      <td>(green tea)</td>\n",
       "      <td>(french fries)</td>\n",
       "      <td>0.132116</td>\n",
       "      <td>0.170911</td>\n",
       "      <td>0.028530</td>\n",
       "      <td>0.215943</td>\n",
       "      <td>1.263488</td>\n",
       "      <td>0.005950</td>\n",
       "      <td>1.057436</td>\n",
       "    </tr>\n",
       "    <tr>\n",
       "      <th>...</th>\n",
       "      <td>...</td>\n",
       "      <td>...</td>\n",
       "      <td>...</td>\n",
       "      <td>...</td>\n",
       "      <td>...</td>\n",
       "      <td>...</td>\n",
       "      <td>...</td>\n",
       "      <td>...</td>\n",
       "      <td>...</td>\n",
       "    </tr>\n",
       "    <tr>\n",
       "      <th>95</th>\n",
       "      <td>(milk)</td>\n",
       "      <td>(ground beef)</td>\n",
       "      <td>0.129583</td>\n",
       "      <td>0.098254</td>\n",
       "      <td>0.021997</td>\n",
       "      <td>0.169753</td>\n",
       "      <td>1.727704</td>\n",
       "      <td>0.009265</td>\n",
       "      <td>1.086118</td>\n",
       "    </tr>\n",
       "    <tr>\n",
       "      <th>96</th>\n",
       "      <td>(ground beef)</td>\n",
       "      <td>(chocolate)</td>\n",
       "      <td>0.098254</td>\n",
       "      <td>0.163845</td>\n",
       "      <td>0.023064</td>\n",
       "      <td>0.234735</td>\n",
       "      <td>1.432669</td>\n",
       "      <td>0.006965</td>\n",
       "      <td>1.092635</td>\n",
       "    </tr>\n",
       "    <tr>\n",
       "      <th>97</th>\n",
       "      <td>(chocolate)</td>\n",
       "      <td>(ground beef)</td>\n",
       "      <td>0.163845</td>\n",
       "      <td>0.098254</td>\n",
       "      <td>0.023064</td>\n",
       "      <td>0.140765</td>\n",
       "      <td>1.432669</td>\n",
       "      <td>0.006965</td>\n",
       "      <td>1.049476</td>\n",
       "    </tr>\n",
       "    <tr>\n",
       "      <th>98</th>\n",
       "      <td>(mineral water)</td>\n",
       "      <td>(cake)</td>\n",
       "      <td>0.238368</td>\n",
       "      <td>0.081056</td>\n",
       "      <td>0.027463</td>\n",
       "      <td>0.115213</td>\n",
       "      <td>1.421397</td>\n",
       "      <td>0.008142</td>\n",
       "      <td>1.038604</td>\n",
       "    </tr>\n",
       "    <tr>\n",
       "      <th>99</th>\n",
       "      <td>(cake)</td>\n",
       "      <td>(mineral water)</td>\n",
       "      <td>0.081056</td>\n",
       "      <td>0.238368</td>\n",
       "      <td>0.027463</td>\n",
       "      <td>0.338816</td>\n",
       "      <td>1.421397</td>\n",
       "      <td>0.008142</td>\n",
       "      <td>1.151921</td>\n",
       "    </tr>\n",
       "  </tbody>\n",
       "</table>\n",
       "<p>100 rows × 9 columns</p>\n",
       "</div>"
      ],
      "text/plain": [
       "        antecedents      consequents  antecedent support  consequent support  \\\n",
       "0   (mineral water)      (green tea)            0.238368            0.132116   \n",
       "1       (green tea)  (mineral water)            0.132116            0.238368   \n",
       "2       (spaghetti)      (green tea)            0.174110            0.132116   \n",
       "3       (green tea)      (spaghetti)            0.132116            0.174110   \n",
       "4       (green tea)   (french fries)            0.132116            0.170911   \n",
       "..              ...              ...                 ...                 ...   \n",
       "95           (milk)    (ground beef)            0.129583            0.098254   \n",
       "96    (ground beef)      (chocolate)            0.098254            0.163845   \n",
       "97      (chocolate)    (ground beef)            0.163845            0.098254   \n",
       "98  (mineral water)           (cake)            0.238368            0.081056   \n",
       "99           (cake)  (mineral water)            0.081056            0.238368   \n",
       "\n",
       "     support  confidence      lift  leverage  conviction  \n",
       "0   0.031063    0.130313  0.986357 -0.000430    0.997927  \n",
       "1   0.031063    0.235116  0.986357 -0.000430    0.995748  \n",
       "2   0.026530    0.152374  1.153335  0.003527    1.023900  \n",
       "3   0.026530    0.200807  1.153335  0.003527    1.033405  \n",
       "4   0.028530    0.215943  1.263488  0.005950    1.057436  \n",
       "..       ...         ...       ...       ...         ...  \n",
       "95  0.021997    0.169753  1.727704  0.009265    1.086118  \n",
       "96  0.023064    0.234735  1.432669  0.006965    1.092635  \n",
       "97  0.023064    0.140765  1.432669  0.006965    1.049476  \n",
       "98  0.027463    0.115213  1.421397  0.008142    1.038604  \n",
       "99  0.027463    0.338816  1.421397  0.008142    1.151921  \n",
       "\n",
       "[100 rows x 9 columns]"
      ]
     },
     "execution_count": 16,
     "metadata": {},
     "output_type": "execute_result"
    }
   ],
   "source": [
    "rule_supports"
   ]
  },
  {
   "cell_type": "markdown",
   "id": "811914b0",
   "metadata": {},
   "source": [
    "## Conclusion:\n",
    "ECLAT Algorithm as a fast and efficient method for doing association rule mining, or frequent itemset mining. We have seen that, although it is faster, it comes with fewer metrics than alternative methods, which is partly why it is faster."
   ]
  },
  {
   "cell_type": "code",
   "execution_count": null,
   "id": "b0cee8ba",
   "metadata": {},
   "outputs": [],
   "source": []
  },
  {
   "cell_type": "code",
   "execution_count": null,
   "id": "a23630bb",
   "metadata": {},
   "outputs": [],
   "source": []
  },
  {
   "cell_type": "code",
   "execution_count": null,
   "id": "5469ee9d",
   "metadata": {},
   "outputs": [],
   "source": []
  },
  {
   "cell_type": "code",
   "execution_count": 15,
   "id": "1ea33f59",
   "metadata": {},
   "outputs": [],
   "source": []
  },
  {
   "cell_type": "code",
   "execution_count": 16,
   "id": "e85f02b8",
   "metadata": {},
   "outputs": [],
   "source": []
  },
  {
   "cell_type": "code",
   "execution_count": null,
   "id": "fd84460d",
   "metadata": {},
   "outputs": [],
   "source": []
  },
  {
   "cell_type": "code",
   "execution_count": 21,
   "id": "370a994a",
   "metadata": {},
   "outputs": [],
   "source": []
  },
  {
   "cell_type": "code",
   "execution_count": null,
   "id": "bae7ffa6",
   "metadata": {},
   "outputs": [],
   "source": []
  },
  {
   "cell_type": "code",
   "execution_count": 4,
   "id": "dd8bae03",
   "metadata": {},
   "outputs": [],
   "source": []
  },
  {
   "cell_type": "code",
   "execution_count": null,
   "id": "1cc890e1",
   "metadata": {},
   "outputs": [],
   "source": []
  },
  {
   "cell_type": "code",
   "execution_count": null,
   "id": "1dd7ba87",
   "metadata": {},
   "outputs": [],
   "source": []
  }
 ],
 "metadata": {
  "kernelspec": {
   "display_name": "Python 3",
   "language": "python",
   "name": "python3"
  },
  "language_info": {
   "codemirror_mode": {
    "name": "ipython",
    "version": 3
   },
   "file_extension": ".py",
   "mimetype": "text/x-python",
   "name": "python",
   "nbconvert_exporter": "python",
   "pygments_lexer": "ipython3",
   "version": "3.8.8"
  }
 },
 "nbformat": 4,
 "nbformat_minor": 5
}
