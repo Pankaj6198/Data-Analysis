{
 "cells": [
  {
   "cell_type": "markdown",
   "id": "87883028",
   "metadata": {},
   "source": [
    "# Pynb Merge"
   ]
  },
  {
   "cell_type": "code",
   "execution_count": 8,
   "id": "51548c25",
   "metadata": {},
   "outputs": [],
   "source": [
    "\n",
    "import json\n",
    "\n",
    "def read_ipynb(notebook_path):\n",
    "    with open(notebook_path, 'r', encoding='utf-8') as f:\n",
    "        return json.load(f)"
   ]
  },
  {
   "cell_type": "code",
   "execution_count": 9,
   "id": "f9f0c2fc",
   "metadata": {},
   "outputs": [],
   "source": [
    "first_notebook = read_ipynb('Heart_Disease_Prediction-Copy1.ipynb')\n",
    "second_notebook = read_ipynb('Pankaj_119_ML_KNN_heart-Copy1.ipynb')\n",
    "third_notebook = read_ipynb('Pankaj_119_SVM_Predicting_heart_disease-Copy1.ipynb')"
   ]
  },
  {
   "cell_type": "code",
   "execution_count": 10,
   "id": "e1fca729",
   "metadata": {},
   "outputs": [],
   "source": [
    "import copy\n",
    "final_notebook = copy.deepcopy(first_notebook)"
   ]
  },
  {
   "cell_type": "code",
   "execution_count": 11,
   "id": "e60cad29",
   "metadata": {},
   "outputs": [],
   "source": [
    "final_notebook['cells'] = first_notebook['cells'] + second_notebook['cells'] + third_notebook['cells']"
   ]
  },
  {
   "cell_type": "code",
   "execution_count": 12,
   "id": "066e035b",
   "metadata": {},
   "outputs": [],
   "source": [
    "def write_ipynb(notebook, notebook_path):\n",
    "    with open(notebook_path, 'w', encoding='utf-8') as f:\n",
    "        json.dump(notebook, f)\n",
    "\n",
    "# Saving the resulting notebook\n",
    "write_ipynb(final_notebook, 'final_notebook.ipynb')"
   ]
  },
  {
   "cell_type": "code",
   "execution_count": null,
   "id": "b19806cf",
   "metadata": {},
   "outputs": [],
   "source": []
  },
  {
   "cell_type": "code",
   "execution_count": null,
   "id": "9591b2ca",
   "metadata": {},
   "outputs": [],
   "source": []
  }
 ],
 "metadata": {
  "kernelspec": {
   "display_name": "Python 3",
   "language": "python",
   "name": "python3"
  },
  "language_info": {
   "codemirror_mode": {
    "name": "ipython",
    "version": 3
   },
   "file_extension": ".py",
   "mimetype": "text/x-python",
   "name": "python",
   "nbconvert_exporter": "python",
   "pygments_lexer": "ipython3",
   "version": "3.8.8"
  }
 },
 "nbformat": 4,
 "nbformat_minor": 5
}
