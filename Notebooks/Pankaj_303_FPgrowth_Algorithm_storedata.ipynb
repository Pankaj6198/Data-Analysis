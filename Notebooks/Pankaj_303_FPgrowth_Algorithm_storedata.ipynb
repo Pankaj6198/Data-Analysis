{
 "cells": [
  {
   "cell_type": "markdown",
   "id": "65d72ac7",
   "metadata": {},
   "source": [
    "# Name: Pankaj Chaudhari\n",
    "# Roll No : 303\n",
    "# Dataset : Store data\n",
    "# Predictive Analytics Lab 1"
   ]
  },
  {
   "cell_type": "markdown",
   "id": "676e19bd",
   "metadata": {},
   "source": [
    "## Algorithm : FP Growth"
   ]
  },
  {
   "cell_type": "markdown",
   "id": "424505fe",
   "metadata": {},
   "source": [
    "The frequent pattern growth method lets us find the frequent pattern without candidate generation.\n",
    "\n",
    "Let us see the steps followed to mine the frequent pattern using frequent pattern growth algorithm:\n",
    "\n",
    "- 1) The first step is to scan the database to find the occurrences of the itemsets in the database. This step is the same as the first step of Apriori. The count of 1-itemsets in the database is called support count or frequency of 1-itemset.\n",
    "\n",
    "- 2) The second step is to construct the FP tree. For this, create the root of the tree. The root is represented by null.\n",
    "\n",
    "- 3) The next step is to scan the database again and examine the transactions. Examine the first transaction and find out the itemset in it. The itemset with the max count is taken at the top, the next itemset with lower count and so on. It means that the branch of the tree is constructed with transaction itemsets in descending order of count.\n",
    "\n",
    "- 4) The next transaction in the database is examined. The itemsets are ordered in descending order of count. If any itemset of this transaction is already present in another branch (for example in the 1st transaction), then this transaction branch would share a common prefix to the root.\n",
    "\n",
    "This means that the common itemset is linked to the new node of another itemset in this transaction.\n",
    "\n",
    "- 5) Also, the count of the itemset is incremented as it occurs in the transactions. Both the common node and new node count is increased by 1 as they are created and linked according to transactions.\n",
    "\n",
    "- 6) The next step is to mine the created FP Tree. For this, the lowest node is examined first along with the links of the lowest nodes. The lowest node represents the frequency pattern length 1. From this, traverse the path in the FP Tree. This path or paths are called a conditional pattern base.\n",
    "\n",
    "Conditional pattern base is a sub-database consisting of prefix paths in the FP tree occurring with the lowest node (suffix).\n",
    "\n",
    "- 7) Construct a Conditional FP Tree, which is formed by a count of itemsets in the path. The itemsets meeting the threshold support are considered in the Conditional FP Tree.\n",
    "\n",
    "- 8) Frequent Patterns are generated from the Conditional FP Tree."
   ]
  },
  {
   "cell_type": "markdown",
   "id": "d8490cd6",
   "metadata": {},
   "source": [
    "## Source Code:"
   ]
  },
  {
   "cell_type": "code",
   "execution_count": 1,
   "id": "a68c617b",
   "metadata": {},
   "outputs": [],
   "source": [
    "import numpy as np\n",
    "import pandas as pd\n",
    "from mlxtend.preprocessing import TransactionEncoder \n",
    "from mlxtend.frequent_patterns import association_rules\n",
    "from mlxtend.frequent_patterns import fpgrowth"
   ]
  },
  {
   "cell_type": "code",
   "execution_count": 2,
   "id": "ade47163",
   "metadata": {},
   "outputs": [],
   "source": [
    "import csv\n",
    "with open('store_data.csv') as f:\n",
    "    reader = csv.reader(f)\n",
    "    dataset = list(reader)"
   ]
  },
  {
   "cell_type": "code",
   "execution_count": 3,
   "id": "cd14dfdf",
   "metadata": {},
   "outputs": [],
   "source": [
    "te = TransactionEncoder()\n",
    "te_array = te.fit(dataset).transform(dataset)\n",
    "df = pd.DataFrame(te_array, columns=te.columns_)"
   ]
  },
  {
   "cell_type": "code",
   "execution_count": 5,
   "id": "e633cb50",
   "metadata": {},
   "outputs": [
    {
     "name": "stdout",
     "output_type": "stream",
     "text": [
      "Wall time: 424 ms\n"
     ]
    }
   ],
   "source": [
    "%%time\n",
    "frequent_itemsets_fp=fpgrowth(df, min_support=0.02, use_colnames=True)"
   ]
  },
  {
   "cell_type": "code",
   "execution_count": 7,
   "id": "57e6ba28",
   "metadata": {},
   "outputs": [
    {
     "data": {
      "text/plain": [
       "103"
      ]
     },
     "execution_count": 7,
     "metadata": {},
     "output_type": "execute_result"
    }
   ],
   "source": [
    "len(frequent_itemsets_fp)"
   ]
  },
  {
   "cell_type": "code",
   "execution_count": 8,
   "id": "509d1fe6",
   "metadata": {},
   "outputs": [
    {
     "data": {
      "text/html": [
       "<div>\n",
       "<style scoped>\n",
       "    .dataframe tbody tr th:only-of-type {\n",
       "        vertical-align: middle;\n",
       "    }\n",
       "\n",
       "    .dataframe tbody tr th {\n",
       "        vertical-align: top;\n",
       "    }\n",
       "\n",
       "    .dataframe thead th {\n",
       "        text-align: right;\n",
       "    }\n",
       "</style>\n",
       "<table border=\"1\" class=\"dataframe\">\n",
       "  <thead>\n",
       "    <tr style=\"text-align: right;\">\n",
       "      <th></th>\n",
       "      <th>support</th>\n",
       "      <th>itemsets</th>\n",
       "    </tr>\n",
       "  </thead>\n",
       "  <tbody>\n",
       "    <tr>\n",
       "      <th>0</th>\n",
       "      <td>0.238368</td>\n",
       "      <td>(mineral water)</td>\n",
       "    </tr>\n",
       "    <tr>\n",
       "      <th>1</th>\n",
       "      <td>0.132116</td>\n",
       "      <td>(green tea)</td>\n",
       "    </tr>\n",
       "    <tr>\n",
       "      <th>2</th>\n",
       "      <td>0.076523</td>\n",
       "      <td>(low fat yogurt)</td>\n",
       "    </tr>\n",
       "    <tr>\n",
       "      <th>3</th>\n",
       "      <td>0.071457</td>\n",
       "      <td>(shrimp)</td>\n",
       "    </tr>\n",
       "    <tr>\n",
       "      <th>4</th>\n",
       "      <td>0.065858</td>\n",
       "      <td>(olive oil)</td>\n",
       "    </tr>\n",
       "    <tr>\n",
       "      <th>...</th>\n",
       "      <td>...</td>\n",
       "      <td>...</td>\n",
       "    </tr>\n",
       "    <tr>\n",
       "      <th>98</th>\n",
       "      <td>0.040928</td>\n",
       "      <td>(mineral water, ground beef)</td>\n",
       "    </tr>\n",
       "    <tr>\n",
       "      <th>99</th>\n",
       "      <td>0.039195</td>\n",
       "      <td>(ground beef, spaghetti)</td>\n",
       "    </tr>\n",
       "    <tr>\n",
       "      <th>100</th>\n",
       "      <td>0.021997</td>\n",
       "      <td>(ground beef, milk)</td>\n",
       "    </tr>\n",
       "    <tr>\n",
       "      <th>101</th>\n",
       "      <td>0.023064</td>\n",
       "      <td>(ground beef, chocolate)</td>\n",
       "    </tr>\n",
       "    <tr>\n",
       "      <th>102</th>\n",
       "      <td>0.027463</td>\n",
       "      <td>(mineral water, cake)</td>\n",
       "    </tr>\n",
       "  </tbody>\n",
       "</table>\n",
       "<p>103 rows × 2 columns</p>\n",
       "</div>"
      ],
      "text/plain": [
       "      support                      itemsets\n",
       "0    0.238368               (mineral water)\n",
       "1    0.132116                   (green tea)\n",
       "2    0.076523              (low fat yogurt)\n",
       "3    0.071457                      (shrimp)\n",
       "4    0.065858                   (olive oil)\n",
       "..        ...                           ...\n",
       "98   0.040928  (mineral water, ground beef)\n",
       "99   0.039195      (ground beef, spaghetti)\n",
       "100  0.021997           (ground beef, milk)\n",
       "101  0.023064      (ground beef, chocolate)\n",
       "102  0.027463         (mineral water, cake)\n",
       "\n",
       "[103 rows x 2 columns]"
      ]
     },
     "execution_count": 8,
     "metadata": {},
     "output_type": "execute_result"
    }
   ],
   "source": [
    "frequent_itemsets_fp"
   ]
  },
  {
   "cell_type": "code",
   "execution_count": 15,
   "id": "c3a426f6",
   "metadata": {},
   "outputs": [],
   "source": [
    "rules_fp = association_rules(frequent_itemsets_fp, metric=\"confidence\", min_threshold=0.0053)"
   ]
  },
  {
   "cell_type": "code",
   "execution_count": 16,
   "id": "fc2072a8",
   "metadata": {},
   "outputs": [
    {
     "data": {
      "text/html": [
       "<div>\n",
       "<style scoped>\n",
       "    .dataframe tbody tr th:only-of-type {\n",
       "        vertical-align: middle;\n",
       "    }\n",
       "\n",
       "    .dataframe tbody tr th {\n",
       "        vertical-align: top;\n",
       "    }\n",
       "\n",
       "    .dataframe thead th {\n",
       "        text-align: right;\n",
       "    }\n",
       "</style>\n",
       "<table border=\"1\" class=\"dataframe\">\n",
       "  <thead>\n",
       "    <tr style=\"text-align: right;\">\n",
       "      <th></th>\n",
       "      <th>antecedents</th>\n",
       "      <th>consequents</th>\n",
       "      <th>antecedent support</th>\n",
       "      <th>consequent support</th>\n",
       "      <th>support</th>\n",
       "      <th>confidence</th>\n",
       "      <th>lift</th>\n",
       "      <th>leverage</th>\n",
       "      <th>conviction</th>\n",
       "    </tr>\n",
       "  </thead>\n",
       "  <tbody>\n",
       "    <tr>\n",
       "      <th>0</th>\n",
       "      <td>(mineral water)</td>\n",
       "      <td>(green tea)</td>\n",
       "      <td>0.238368</td>\n",
       "      <td>0.132116</td>\n",
       "      <td>0.031063</td>\n",
       "      <td>0.130313</td>\n",
       "      <td>0.986357</td>\n",
       "      <td>-0.000430</td>\n",
       "      <td>0.997927</td>\n",
       "    </tr>\n",
       "    <tr>\n",
       "      <th>1</th>\n",
       "      <td>(green tea)</td>\n",
       "      <td>(mineral water)</td>\n",
       "      <td>0.132116</td>\n",
       "      <td>0.238368</td>\n",
       "      <td>0.031063</td>\n",
       "      <td>0.235116</td>\n",
       "      <td>0.986357</td>\n",
       "      <td>-0.000430</td>\n",
       "      <td>0.995748</td>\n",
       "    </tr>\n",
       "    <tr>\n",
       "      <th>2</th>\n",
       "      <td>(spaghetti)</td>\n",
       "      <td>(green tea)</td>\n",
       "      <td>0.174110</td>\n",
       "      <td>0.132116</td>\n",
       "      <td>0.026530</td>\n",
       "      <td>0.152374</td>\n",
       "      <td>1.153335</td>\n",
       "      <td>0.003527</td>\n",
       "      <td>1.023900</td>\n",
       "    </tr>\n",
       "    <tr>\n",
       "      <th>3</th>\n",
       "      <td>(green tea)</td>\n",
       "      <td>(spaghetti)</td>\n",
       "      <td>0.132116</td>\n",
       "      <td>0.174110</td>\n",
       "      <td>0.026530</td>\n",
       "      <td>0.200807</td>\n",
       "      <td>1.153335</td>\n",
       "      <td>0.003527</td>\n",
       "      <td>1.033405</td>\n",
       "    </tr>\n",
       "    <tr>\n",
       "      <th>4</th>\n",
       "      <td>(green tea)</td>\n",
       "      <td>(french fries)</td>\n",
       "      <td>0.132116</td>\n",
       "      <td>0.170911</td>\n",
       "      <td>0.028530</td>\n",
       "      <td>0.215943</td>\n",
       "      <td>1.263488</td>\n",
       "      <td>0.005950</td>\n",
       "      <td>1.057436</td>\n",
       "    </tr>\n",
       "    <tr>\n",
       "      <th>...</th>\n",
       "      <td>...</td>\n",
       "      <td>...</td>\n",
       "      <td>...</td>\n",
       "      <td>...</td>\n",
       "      <td>...</td>\n",
       "      <td>...</td>\n",
       "      <td>...</td>\n",
       "      <td>...</td>\n",
       "      <td>...</td>\n",
       "    </tr>\n",
       "    <tr>\n",
       "      <th>95</th>\n",
       "      <td>(milk)</td>\n",
       "      <td>(ground beef)</td>\n",
       "      <td>0.129583</td>\n",
       "      <td>0.098254</td>\n",
       "      <td>0.021997</td>\n",
       "      <td>0.169753</td>\n",
       "      <td>1.727704</td>\n",
       "      <td>0.009265</td>\n",
       "      <td>1.086118</td>\n",
       "    </tr>\n",
       "    <tr>\n",
       "      <th>96</th>\n",
       "      <td>(ground beef)</td>\n",
       "      <td>(chocolate)</td>\n",
       "      <td>0.098254</td>\n",
       "      <td>0.163845</td>\n",
       "      <td>0.023064</td>\n",
       "      <td>0.234735</td>\n",
       "      <td>1.432669</td>\n",
       "      <td>0.006965</td>\n",
       "      <td>1.092635</td>\n",
       "    </tr>\n",
       "    <tr>\n",
       "      <th>97</th>\n",
       "      <td>(chocolate)</td>\n",
       "      <td>(ground beef)</td>\n",
       "      <td>0.163845</td>\n",
       "      <td>0.098254</td>\n",
       "      <td>0.023064</td>\n",
       "      <td>0.140765</td>\n",
       "      <td>1.432669</td>\n",
       "      <td>0.006965</td>\n",
       "      <td>1.049476</td>\n",
       "    </tr>\n",
       "    <tr>\n",
       "      <th>98</th>\n",
       "      <td>(mineral water)</td>\n",
       "      <td>(cake)</td>\n",
       "      <td>0.238368</td>\n",
       "      <td>0.081056</td>\n",
       "      <td>0.027463</td>\n",
       "      <td>0.115213</td>\n",
       "      <td>1.421397</td>\n",
       "      <td>0.008142</td>\n",
       "      <td>1.038604</td>\n",
       "    </tr>\n",
       "    <tr>\n",
       "      <th>99</th>\n",
       "      <td>(cake)</td>\n",
       "      <td>(mineral water)</td>\n",
       "      <td>0.081056</td>\n",
       "      <td>0.238368</td>\n",
       "      <td>0.027463</td>\n",
       "      <td>0.338816</td>\n",
       "      <td>1.421397</td>\n",
       "      <td>0.008142</td>\n",
       "      <td>1.151921</td>\n",
       "    </tr>\n",
       "  </tbody>\n",
       "</table>\n",
       "<p>100 rows × 9 columns</p>\n",
       "</div>"
      ],
      "text/plain": [
       "        antecedents      consequents  antecedent support  consequent support  \\\n",
       "0   (mineral water)      (green tea)            0.238368            0.132116   \n",
       "1       (green tea)  (mineral water)            0.132116            0.238368   \n",
       "2       (spaghetti)      (green tea)            0.174110            0.132116   \n",
       "3       (green tea)      (spaghetti)            0.132116            0.174110   \n",
       "4       (green tea)   (french fries)            0.132116            0.170911   \n",
       "..              ...              ...                 ...                 ...   \n",
       "95           (milk)    (ground beef)            0.129583            0.098254   \n",
       "96    (ground beef)      (chocolate)            0.098254            0.163845   \n",
       "97      (chocolate)    (ground beef)            0.163845            0.098254   \n",
       "98  (mineral water)           (cake)            0.238368            0.081056   \n",
       "99           (cake)  (mineral water)            0.081056            0.238368   \n",
       "\n",
       "     support  confidence      lift  leverage  conviction  \n",
       "0   0.031063    0.130313  0.986357 -0.000430    0.997927  \n",
       "1   0.031063    0.235116  0.986357 -0.000430    0.995748  \n",
       "2   0.026530    0.152374  1.153335  0.003527    1.023900  \n",
       "3   0.026530    0.200807  1.153335  0.003527    1.033405  \n",
       "4   0.028530    0.215943  1.263488  0.005950    1.057436  \n",
       "..       ...         ...       ...       ...         ...  \n",
       "95  0.021997    0.169753  1.727704  0.009265    1.086118  \n",
       "96  0.023064    0.234735  1.432669  0.006965    1.092635  \n",
       "97  0.023064    0.140765  1.432669  0.006965    1.049476  \n",
       "98  0.027463    0.115213  1.421397  0.008142    1.038604  \n",
       "99  0.027463    0.338816  1.421397  0.008142    1.151921  \n",
       "\n",
       "[100 rows x 9 columns]"
      ]
     },
     "execution_count": 16,
     "metadata": {},
     "output_type": "execute_result"
    }
   ],
   "source": [
    "rules_fp"
   ]
  },
  {
   "cell_type": "markdown",
   "id": "7b7c29f3",
   "metadata": {},
   "source": [
    "## Conclusion:\n",
    "Frequent Pattern Growth Algorithm is the method of finding frequent patterns without candidate generation. It constructs an FP Tree rather than using the generate and test strategy of Apriori. The focus of the FP Growth algorithm is on fragmenting the paths of the items and mining frequent patterns."
   ]
  },
  {
   "cell_type": "code",
   "execution_count": null,
   "id": "b0cee8ba",
   "metadata": {},
   "outputs": [],
   "source": []
  },
  {
   "cell_type": "code",
   "execution_count": null,
   "id": "a23630bb",
   "metadata": {},
   "outputs": [],
   "source": []
  },
  {
   "cell_type": "code",
   "execution_count": null,
   "id": "5469ee9d",
   "metadata": {},
   "outputs": [],
   "source": []
  },
  {
   "cell_type": "code",
   "execution_count": 15,
   "id": "1ea33f59",
   "metadata": {},
   "outputs": [],
   "source": []
  },
  {
   "cell_type": "code",
   "execution_count": 16,
   "id": "e85f02b8",
   "metadata": {},
   "outputs": [],
   "source": []
  },
  {
   "cell_type": "code",
   "execution_count": null,
   "id": "fd84460d",
   "metadata": {},
   "outputs": [],
   "source": []
  },
  {
   "cell_type": "code",
   "execution_count": 21,
   "id": "370a994a",
   "metadata": {},
   "outputs": [],
   "source": []
  },
  {
   "cell_type": "code",
   "execution_count": null,
   "id": "bae7ffa6",
   "metadata": {},
   "outputs": [],
   "source": []
  },
  {
   "cell_type": "code",
   "execution_count": 4,
   "id": "dd8bae03",
   "metadata": {},
   "outputs": [],
   "source": []
  },
  {
   "cell_type": "code",
   "execution_count": null,
   "id": "1cc890e1",
   "metadata": {},
   "outputs": [],
   "source": []
  },
  {
   "cell_type": "code",
   "execution_count": null,
   "id": "1dd7ba87",
   "metadata": {},
   "outputs": [],
   "source": []
  }
 ],
 "metadata": {
  "kernelspec": {
   "display_name": "Python 3",
   "language": "python",
   "name": "python3"
  },
  "language_info": {
   "codemirror_mode": {
    "name": "ipython",
    "version": 3
   },
   "file_extension": ".py",
   "mimetype": "text/x-python",
   "name": "python",
   "nbconvert_exporter": "python",
   "pygments_lexer": "ipython3",
   "version": "3.8.8"
  }
 },
 "nbformat": 4,
 "nbformat_minor": 5
}
